{
 "metadata": {
  "name": "",
  "signature": "sha256:68c48a3e5194755e92f59d8bce2a4d2517206796dcc96b5d9cdba8328d76b2d3"
 },
 "nbformat": 3,
 "nbformat_minor": 0,
 "worksheets": [
  {
   "cells": [
    {
     "cell_type": "code",
     "collapsed": false,
     "input": [
      "import numpy as np\n",
      "import pandas as pd\n",
      "import matplotlib.pyplot as plt\n",
      "import random\n",
      "\n",
      "catan_df = pd.read_pickle('catan.pkl')\n",
      "vc = catan_df.Roll.value_counts()"
     ],
     "language": "python",
     "metadata": {},
     "outputs": [],
     "prompt_number": 30
    },
    {
     "cell_type": "markdown",
     "metadata": {},
     "source": [
      "http://python-nvd3.readthedocs.org/en/latest/"
     ]
    },
    {
     "cell_type": "code",
     "collapsed": false,
     "input": [
      "# python-nvd3\n",
      "import random\n",
      "from IPython import display as d\n",
      "import nvd3\n",
      "#nvd3.ipynb.initialize_javascript(use_remote=True)\n",
      "catan_df.head()"
     ],
     "language": "python",
     "metadata": {},
     "outputs": [
      {
       "html": [
        "<div style=\"max-height:1000px;max-width:1500px;overflow:auto;\">\n",
        "<table border=\"1\" class=\"dataframe\">\n",
        "  <thead>\n",
        "    <tr style=\"text-align: right;\">\n",
        "      <th></th>\n",
        "      <th>Rosencrantz</th>\n",
        "      <th>Guildenstern</th>\n",
        "      <th>Roll</th>\n",
        "    </tr>\n",
        "  </thead>\n",
        "  <tbody>\n",
        "    <tr>\n",
        "      <th>0</th>\n",
        "      <td> 2</td>\n",
        "      <td> 3</td>\n",
        "      <td> 5</td>\n",
        "    </tr>\n",
        "    <tr>\n",
        "      <th>1</th>\n",
        "      <td> 6</td>\n",
        "      <td> 2</td>\n",
        "      <td> 8</td>\n",
        "    </tr>\n",
        "    <tr>\n",
        "      <th>2</th>\n",
        "      <td> 1</td>\n",
        "      <td> 6</td>\n",
        "      <td> 7</td>\n",
        "    </tr>\n",
        "    <tr>\n",
        "      <th>3</th>\n",
        "      <td> 3</td>\n",
        "      <td> 2</td>\n",
        "      <td> 5</td>\n",
        "    </tr>\n",
        "    <tr>\n",
        "      <th>4</th>\n",
        "      <td> 1</td>\n",
        "      <td> 6</td>\n",
        "      <td> 7</td>\n",
        "    </tr>\n",
        "  </tbody>\n",
        "</table>\n",
        "</div>"
       ],
       "metadata": {},
       "output_type": "pyout",
       "prompt_number": 31,
       "text": [
        "   Rosencrantz  Guildenstern  Roll\n",
        "0            2             3     5\n",
        "1            6             2     8\n",
        "2            1             6     7\n",
        "3            3             2     5\n",
        "4            1             6     7"
       ]
      }
     ],
     "prompt_number": 31
    },
    {
     "cell_type": "heading",
     "level": 3,
     "metadata": {},
     "source": [
      "Pie Chart"
     ]
    },
    {
     "cell_type": "code",
     "collapsed": false,
     "input": [
      "from nvd3 import pieChart\n",
      "\n",
      "#Open File to write the D3 Graph\n",
      "output_file = open('PieChart.html', 'w')\n",
      "\n",
      "name = 'Roll_Distribution'\n",
      "chart = pieChart(name=name, color_category='category20c', height=450, width=450)\n",
      "chart.set_containerheader(\"\\n\\n<h2>\" + name.replace('_',' ') + \"</h2>\\n\\n\")\n",
      "\n",
      "#Create the keys\n",
      "vc = catan_df.Roll.value_counts(sort=False)\n",
      "xdata = vc.index.astype(int).tolist()\n",
      "ydata = vc.values.astype(int).tolist()\n",
      "\n",
      "#Add the serie\n",
      "extra_serie = {\"tooltip\": {\"y_start\": \"\", \"y_end\": \" rolls at this value\"}}\n",
      "chart.add_serie(y=ydata, x=xdata, extra=extra_serie)\n",
      "chart.buildhtml()\n",
      "output_file.write(chart.htmlcontent)\n",
      "\n",
      "#close Html file\n",
      "output_file.close()"
     ],
     "language": "python",
     "metadata": {},
     "outputs": [],
     "prompt_number": 25
    },
    {
     "cell_type": "heading",
     "level": 3,
     "metadata": {},
     "source": [
      "Bar Chart"
     ]
    },
    {
     "cell_type": "code",
     "collapsed": false,
     "input": [
      "from nvd3 import multiBarChart\n",
      "output_file = open('BarChart.html', 'w')\n",
      "\n",
      "chart = multiBarChart(width=500, height=400, x_axis_format=None)\n",
      "xdata = catan_df.index.astype(int).tolist()\n",
      "ydata1 = catan_df.Rosencrantz.astype(int).tolist()\n",
      "ydata2 = catan_df.Guildenstern.astype(int).tolist()\n",
      "\n",
      "chart.add_serie(name=\"Rosencrantz\", y=ydata1, x=xdata)\n",
      "chart.add_serie(name=\"Guildenstern\", y=ydata2, x=xdata)\n",
      "chart.buildhtml()\n",
      "\n",
      "output_file.write(chart.htmlcontent)\n",
      "#close Html file\n",
      "output_file.close()"
     ],
     "language": "python",
     "metadata": {},
     "outputs": [],
     "prompt_number": 29
    },
    {
     "cell_type": "heading",
     "level": 3,
     "metadata": {},
     "source": [
      "Create stacked area chart"
     ]
    },
    {
     "cell_type": "code",
     "collapsed": false,
     "input": [
      "output_file = open('StackedAreaChart.html', 'w')\n",
      "name = \"Roll_Progress\"\n",
      "stackedarea = nvd3.stackedAreaChart(name=name, height=450, width=1200)\n",
      "stackedarea.set_containerheader(\"\\n\\n<h2>\" + name.replace('_',' ') + \"</h2>\\n\\n\")\n",
      "\n",
      "xdata =  catan_df.index.astype(int).tolist()\n",
      "ydata =  catan_df.Rosencrantz.astype(int).tolist()\n",
      "ydata2 = catan_df.Guildenstern.astype(int).tolist()\n",
      "\n",
      "extra_serie = {\"tooltip\": {\"y_start\": \"\", \"y_end\": \" rolls at this value\"}}\n",
      "stackedarea.add_serie(name=\"Guildenstern\", y=ydata,  x=xdata, extra=extra_serie)\n",
      "stackedarea.add_serie(name=\"Rosencrantz\",  y=ydata2, x=xdata, extra=extra_serie)\n",
      "stackedarea.buildhtml()\n",
      "output_file.write(stackedarea.htmlcontent)"
     ],
     "language": "python",
     "metadata": {},
     "outputs": [],
     "prompt_number": 27
    },
    {
     "cell_type": "heading",
     "level": 3,
     "metadata": {},
     "source": [
      "Line Chart with Crossfilter"
     ]
    },
    {
     "cell_type": "code",
     "collapsed": false,
     "input": [
      "from nvd3 import lineWithFocusChart\n",
      "\n",
      "#Open File to write the D3 Graph\n",
      "output_file = open('lineWithFocusChart.html', 'w')\n",
      "\n",
      "name='lineWithFocusChart'\n",
      "\n",
      "chart = lineWithFocusChart(name=name)#, x_is_date=True, x_axis_format=\"%d %b %Y\")\n",
      "\n",
      "xdata = catan_df.index.astype(int).tolist()\n",
      "ydata1 = catan_df.Rosencrantz.astype(int).tolist()\n",
      "ydata2 = catan_df.Guildenstern.astype(int).tolist()\n",
      "\n",
      "extra_serie = {\"tooltip\": {\"y_start\": \"\", \"y_end\": \" value\"}}\n",
      "chart.add_serie(name=\"Rosencrantz\", y=ydata1, x=xdata, extra=extra_serie)\n",
      "chart.add_serie(name=\"Guildenstern\", y=ydata2, x=xdata, extra=extra_serie)\n",
      "chart.buildhtml()\n",
      "output_file.write(chart.htmlcontent)\n",
      "\n",
      "#close Html file\n",
      "output_file.close()"
     ],
     "language": "python",
     "metadata": {},
     "outputs": [],
     "prompt_number": 28
    }
   ],
   "metadata": {}
  }
 ]
}